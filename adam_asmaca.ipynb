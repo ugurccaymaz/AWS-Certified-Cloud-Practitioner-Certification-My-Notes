{
  "nbformat": 4,
  "nbformat_minor": 0,
  "metadata": {
    "colab": {
      "provenance": [],
      "authorship_tag": "ABX9TyMglfsEKiRbMeUkAZboQQpW",
      "include_colab_link": true
    },
    "kernelspec": {
      "name": "python3",
      "display_name": "Python 3"
    },
    "language_info": {
      "name": "python"
    }
  },
  "cells": [
    {
      "cell_type": "markdown",
      "metadata": {
        "id": "view-in-github",
        "colab_type": "text"
      },
      "source": [
        "<a href=\"https://colab.research.google.com/github/ugurccaymaz/AWS-Certified-Cloud-Practitioner-Certification-My-Notes/blob/main/adam_asmaca.ipynb\" target=\"_parent\"><img src=\"https://colab.research.google.com/assets/colab-badge.svg\" alt=\"Open In Colab\"/></a>"
      ]
    },
    {
      "cell_type": "code",
      "execution_count": 1,
      "metadata": {
        "id": "HomsJBr66v9X"
      },
      "outputs": [],
      "source": [
        "import json\n",
        "import os\n",
        "\n",
        "try:\n",
        "    from termcolor import cprint\n",
        "except ImportError:\n",
        "    def cprint(*args, **kwargs):\n",
        "      print(*args)\n",
        "\n",
        "kelimeler = [\"vantilatör\",\"adaptör\",\"kalem\",\"telefon\",\"kulaklik\",\"pervane\",\"merdane\",\"kestane\",\"ugur\",\"sharu\"]\n",
        "\n",
        "def oyun_hazirlik():\n",
        "  \"\"\"oyun icin gerekli degiskenleri tanimlar\"\"\"\n",
        "  global secilen_kelime, gorunen_kelime, can\n",
        "  import random\n",
        "  secilen_kelime = random.choice(kelimeler)\n",
        "  gorunen_kelime = [\"-\"]* len(secilen_kelime)\n",
        "  can = 5\n",
        "\n"
      ]
    }
  ]
}